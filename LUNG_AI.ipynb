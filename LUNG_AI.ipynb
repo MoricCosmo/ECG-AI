{
  "cells": [
    {
      "cell_type": "code",
      "execution_count": 1,
      "metadata": {
        "id": "rPHlC-zsXe7h"
      },
      "outputs": [
        {
          "name": "stderr",
          "output_type": "stream",
          "text": [
            "c:\\Users\\moric\\miniconda3\\envs\\tf\\lib\\site-packages\\tqdm\\auto.py:21: TqdmWarning: IProgress not found. Please update jupyter and ipywidgets. See https://ipywidgets.readthedocs.io/en/stable/user_install.html\n",
            "  from .autonotebook import tqdm as notebook_tqdm\n"
          ]
        }
      ],
      "source": [
        "from datasets import load_dataset\n",
        "\n",
        "dataset = load_dataset(\"keremberke/chest-xray-classification\", name=\"full\")"
      ]
    },
    {
      "cell_type": "code",
      "execution_count": 2,
      "metadata": {
        "id": "SvQ23220a-uO"
      },
      "outputs": [],
      "source": [
        "import matplotlib.pyplot as plt\n",
        "import tensorflow as tf\n",
        "import pandas as pd\n",
        "import numpy as np\n",
        "import cv2 as cv\n"
      ]
    },
    {
      "cell_type": "code",
      "execution_count": 3,
      "metadata": {
        "id": "Q9Jh9GkFYO7L"
      },
      "outputs": [],
      "source": [
        "class_labels = [\n",
        "    \"NORMAL\",\n",
        "    \"PNEUMONIA\"\n",
        "    ]"
      ]
    },
    {
      "cell_type": "code",
      "execution_count": 4,
      "metadata": {
        "colab": {
          "base_uri": "https://localhost:8080/"
        },
        "id": "x5jSIQFYZxNP",
        "outputId": "adfa748b-8597-4042-acd9-b20030eb1aef"
      },
      "outputs": [
        {
          "name": "stdout",
          "output_type": "stream",
          "text": [
            "NORMAL\n",
            "PNEUMONIA\n",
            "2\n"
          ]
        }
      ],
      "source": [
        "for i in class_labels:\n",
        "  print(i)\n",
        "\n",
        "print(len(class_labels))"
      ]
    },
    {
      "cell_type": "code",
      "execution_count": 5,
      "metadata": {
        "id": "EeeTugGHgmoN"
      },
      "outputs": [
        {
          "name": "stdout",
          "output_type": "stream",
          "text": [
            "4077\n",
            "<class 'numpy.ndarray'>\n",
            "<class 'numpy.ndarray'>\n",
            "<class 'numpy.ndarray'>\n",
            "<class 'numpy.ndarray'>\n"
          ]
        }
      ],
      "source": [
        "image_train = []\n",
        "for i in dataset[\"train\"][\"image\"]:\n",
        "  image_train.append(cv.resize(np.asarray(i), (100, 100)))\n",
        "\n",
        "image_train = np.asanyarray(image_train)\n",
        "\n",
        "\n",
        "label_train = np.asanyarray(dataset[\"train\"][\"labels\"])\n",
        "\n",
        "\n",
        "image_test = []\n",
        "for i in dataset[\"test\"][\"image\"]:\n",
        "  image_test.append(cv.resize(np.asarray(i), (100, 100)))\n",
        "\n",
        "image_test = np.asanyarray(image_test)\n",
        "\n",
        "label_test = np.asanyarray(dataset[\"test\"][\"labels\"])\n",
        "\n",
        "print(len(image_train))\n",
        "print(type(image_train))\n",
        "print(type(image_test))\n",
        "print(type(label_train))\n",
        "print(type(label_test))"
      ]
    },
    {
      "cell_type": "code",
      "execution_count": 6,
      "metadata": {
        "id": "r42OhqRwUDci"
      },
      "outputs": [
        {
          "name": "stdout",
          "output_type": "stream",
          "text": [
            "[0 0 0 ... 1 1 1]\n"
          ]
        }
      ],
      "source": [
        "print(label_train)"
      ]
    },
    {
      "cell_type": "code",
      "execution_count": 7,
      "metadata": {
        "id": "KPeJqkLtE4sg"
      },
      "outputs": [
        {
          "name": "stdout",
          "output_type": "stream",
          "text": [
            "[[[[ 35  35  35]\n",
            "   [ 29  29  29]\n",
            "   [ 53  53  53]\n",
            "   ...\n",
            "   [125 125 125]\n",
            "   [121 121 121]\n",
            "   [110 110 110]]\n",
            "\n",
            "  [[ 38  38  38]\n",
            "   [ 28  28  28]\n",
            "   [ 43  43  43]\n",
            "   ...\n",
            "   [130 130 130]\n",
            "   [119 119 119]\n",
            "   [108 108 108]]\n",
            "\n",
            "  [[ 36  36  36]\n",
            "   [ 29  29  29]\n",
            "   [ 32  32  32]\n",
            "   ...\n",
            "   [126 126 126]\n",
            "   [119 119 119]\n",
            "   [103 103 103]]\n",
            "\n",
            "  ...\n",
            "\n",
            "  [[ 39  39  39]\n",
            "   [ 40  40  40]\n",
            "   [ 41  41  41]\n",
            "   ...\n",
            "   [ 32  32  32]\n",
            "   [ 33  33  33]\n",
            "   [ 31  31  31]]\n",
            "\n",
            "  [[ 40  40  40]\n",
            "   [ 40  40  40]\n",
            "   [ 42  42  42]\n",
            "   ...\n",
            "   [ 32  32  32]\n",
            "   [ 31  31  31]\n",
            "   [ 30  30  30]]\n",
            "\n",
            "  [[ 39  39  39]\n",
            "   [ 41  41  41]\n",
            "   [ 40  40  40]\n",
            "   ...\n",
            "   [ 31  31  31]\n",
            "   [ 33  33  33]\n",
            "   [ 30  30  30]]]\n",
            "\n",
            "\n",
            " [[[ 73  73  73]\n",
            "   [ 75  75  75]\n",
            "   [ 77  77  77]\n",
            "   ...\n",
            "   [116 116 116]\n",
            "   [130 130 130]\n",
            "   [166 166 166]]\n",
            "\n",
            "  [[ 79  79  79]\n",
            "   [ 82  82  82]\n",
            "   [ 83  83  83]\n",
            "   ...\n",
            "   [115 115 115]\n",
            "   [134 134 134]\n",
            "   [167 167 167]]\n",
            "\n",
            "  [[ 85  85  85]\n",
            "   [ 81  81  81]\n",
            "   [ 81  81  81]\n",
            "   ...\n",
            "   [117 117 117]\n",
            "   [138 138 138]\n",
            "   [166 166 166]]\n",
            "\n",
            "  ...\n",
            "\n",
            "  [[ 16  16  16]\n",
            "   [ 14  14  14]\n",
            "   [  8   8   8]\n",
            "   ...\n",
            "   [127 127 127]\n",
            "   [139 139 139]\n",
            "   [127 127 127]]\n",
            "\n",
            "  [[ 17  17  17]\n",
            "   [ 14  14  14]\n",
            "   [  9   9   9]\n",
            "   ...\n",
            "   [128 128 128]\n",
            "   [137 137 137]\n",
            "   [128 128 128]]\n",
            "\n",
            "  [[ 17  17  17]\n",
            "   [ 14  14  14]\n",
            "   [  9   9   9]\n",
            "   ...\n",
            "   [133 133 133]\n",
            "   [131 131 131]\n",
            "   [124 124 124]]]\n",
            "\n",
            "\n",
            " [[[ 38  38  38]\n",
            "   [ 39  39  39]\n",
            "   [ 38  38  38]\n",
            "   ...\n",
            "   [ 40  40  40]\n",
            "   [ 41  41  41]\n",
            "   [ 40  40  40]]\n",
            "\n",
            "  [[ 39  39  39]\n",
            "   [ 37  37  37]\n",
            "   [ 35  35  35]\n",
            "   ...\n",
            "   [ 39  39  39]\n",
            "   [ 41  41  41]\n",
            "   [ 39  39  39]]\n",
            "\n",
            "  [[ 38  38  38]\n",
            "   [ 34  34  34]\n",
            "   [ 32  32  32]\n",
            "   ...\n",
            "   [ 39  39  39]\n",
            "   [ 41  41  41]\n",
            "   [ 41  41  41]]\n",
            "\n",
            "  ...\n",
            "\n",
            "  [[ 36  36  36]\n",
            "   [ 38  38  38]\n",
            "   [ 36  36  36]\n",
            "   ...\n",
            "   [ 42  42  42]\n",
            "   [ 43  43  43]\n",
            "   [ 43  43  43]]\n",
            "\n",
            "  [[ 37  37  37]\n",
            "   [ 38  38  38]\n",
            "   [ 37  37  37]\n",
            "   ...\n",
            "   [ 41  41  41]\n",
            "   [ 42  42  42]\n",
            "   [ 44  44  44]]\n",
            "\n",
            "  [[ 41  41  41]\n",
            "   [ 39  39  39]\n",
            "   [ 39  39  39]\n",
            "   ...\n",
            "   [ 43  43  43]\n",
            "   [ 43  43  43]\n",
            "   [ 42  42  42]]]\n",
            "\n",
            "\n",
            " ...\n",
            "\n",
            "\n",
            " [[[  0   0   0]\n",
            "   [  0   0   0]\n",
            "   [  0   0   0]\n",
            "   ...\n",
            "   [  0   0   0]\n",
            "   [  0   0   0]\n",
            "   [  0   0   0]]\n",
            "\n",
            "  [[  0   0   0]\n",
            "   [  0   0   0]\n",
            "   [  0   0   0]\n",
            "   ...\n",
            "   [  0   0   0]\n",
            "   [  0   0   0]\n",
            "   [  0   0   0]]\n",
            "\n",
            "  [[  0   0   0]\n",
            "   [  0   0   0]\n",
            "   [  0   0   0]\n",
            "   ...\n",
            "   [  0   0   0]\n",
            "   [  0   0   0]\n",
            "   [  0   0   0]]\n",
            "\n",
            "  ...\n",
            "\n",
            "  [[  0   0   0]\n",
            "   [  0   0   0]\n",
            "   [  0   0   0]\n",
            "   ...\n",
            "   [  0   0   0]\n",
            "   [  0   0   0]\n",
            "   [  0   0   0]]\n",
            "\n",
            "  [[  0   0   0]\n",
            "   [  0   0   0]\n",
            "   [  0   0   0]\n",
            "   ...\n",
            "   [  0   0   0]\n",
            "   [  0   0   0]\n",
            "   [  0   0   0]]\n",
            "\n",
            "  [[  0   0   0]\n",
            "   [  0   0   0]\n",
            "   [  0   0   0]\n",
            "   ...\n",
            "   [  0   0   0]\n",
            "   [  0   0   0]\n",
            "   [  0   0   0]]]\n",
            "\n",
            "\n",
            " [[[ 91  91  91]\n",
            "   [ 90  90  90]\n",
            "   [ 85  85  85]\n",
            "   ...\n",
            "   [174 174 174]\n",
            "   [194 194 194]\n",
            "   [201 201 201]]\n",
            "\n",
            "  [[ 93  93  93]\n",
            "   [ 90  90  90]\n",
            "   [ 89  89  89]\n",
            "   ...\n",
            "   [157 157 157]\n",
            "   [188 188 188]\n",
            "   [194 194 194]]\n",
            "\n",
            "  [[ 89  89  89]\n",
            "   [ 85  85  85]\n",
            "   [ 85  85  85]\n",
            "   ...\n",
            "   [155 155 155]\n",
            "   [196 196 196]\n",
            "   [192 192 192]]\n",
            "\n",
            "  ...\n",
            "\n",
            "  [[ 16  16  16]\n",
            "   [ 16  16  16]\n",
            "   [ 14  14  14]\n",
            "   ...\n",
            "   [ 17  17  17]\n",
            "   [ 18  18  18]\n",
            "   [ 20  20  20]]\n",
            "\n",
            "  [[ 14  14  14]\n",
            "   [ 15  15  15]\n",
            "   [ 10  10  10]\n",
            "   ...\n",
            "   [ 17  17  17]\n",
            "   [ 18  18  18]\n",
            "   [ 18  18  18]]\n",
            "\n",
            "  [[ 14  14  14]\n",
            "   [ 14  14  14]\n",
            "   [  7   7   7]\n",
            "   ...\n",
            "   [ 17  17  17]\n",
            "   [ 19  19  19]\n",
            "   [ 19  19  19]]]\n",
            "\n",
            "\n",
            " [[[ 13  13  13]\n",
            "   [  7   7   7]\n",
            "   [  6   6   6]\n",
            "   ...\n",
            "   [ 20  20  20]\n",
            "   [ 24  24  24]\n",
            "   [ 41  41  41]]\n",
            "\n",
            "  [[  7   7   7]\n",
            "   [ 12  12  12]\n",
            "   [  3   3   3]\n",
            "   ...\n",
            "   [ 17  17  17]\n",
            "   [ 22  22  22]\n",
            "   [ 31  31  31]]\n",
            "\n",
            "  [[  2   2   2]\n",
            "   [  5   5   5]\n",
            "   [ 29  29  29]\n",
            "   ...\n",
            "   [ 16  16  16]\n",
            "   [ 21  21  21]\n",
            "   [ 22  22  22]]\n",
            "\n",
            "  ...\n",
            "\n",
            "  [[  8   8   8]\n",
            "   [  6   6   6]\n",
            "   [ 37  37  37]\n",
            "   ...\n",
            "   [ 13  13  13]\n",
            "   [ 13  13  13]\n",
            "   [ 12  12  12]]\n",
            "\n",
            "  [[  7   7   7]\n",
            "   [  3   3   3]\n",
            "   [ 41  41  41]\n",
            "   ...\n",
            "   [ 12  12  12]\n",
            "   [ 13  13  13]\n",
            "   [ 14  14  14]]\n",
            "\n",
            "  [[  4   4   4]\n",
            "   [  2   2   2]\n",
            "   [ 39  39  39]\n",
            "   ...\n",
            "   [ 11  11  11]\n",
            "   [ 12  12  12]\n",
            "   [ 10  10  10]]]] [0 0 0 ... 1 1 1]\n",
            "[[[[ 33  33  33]\n",
            "   [ 31  31  31]\n",
            "   [ 30  30  30]\n",
            "   ...\n",
            "   [ 30  30  30]\n",
            "   [ 30  30  30]\n",
            "   [ 29  29  29]]\n",
            "\n",
            "  [[ 33  33  33]\n",
            "   [ 31  31  31]\n",
            "   [ 29  29  29]\n",
            "   ...\n",
            "   [ 30  30  30]\n",
            "   [ 31  31  31]\n",
            "   [ 33  33  33]]\n",
            "\n",
            "  [[ 32  32  32]\n",
            "   [ 32  32  32]\n",
            "   [ 29  29  29]\n",
            "   ...\n",
            "   [ 31  31  31]\n",
            "   [ 31  31  31]\n",
            "   [ 32  32  32]]\n",
            "\n",
            "  ...\n",
            "\n",
            "  [[ 30  30  30]\n",
            "   [ 29  29  29]\n",
            "   [ 27  27  27]\n",
            "   ...\n",
            "   [ 34  34  34]\n",
            "   [ 33  33  33]\n",
            "   [ 35  35  35]]\n",
            "\n",
            "  [[ 30  30  30]\n",
            "   [ 29  29  29]\n",
            "   [ 27  27  27]\n",
            "   ...\n",
            "   [ 33  33  33]\n",
            "   [ 33  33  33]\n",
            "   [ 34  34  34]]\n",
            "\n",
            "  [[ 29  29  29]\n",
            "   [ 27  27  27]\n",
            "   [ 26  26  26]\n",
            "   ...\n",
            "   [ 32  32  32]\n",
            "   [ 33  33  33]\n",
            "   [ 34  34  34]]]\n",
            "\n",
            "\n",
            " [[[ 26  26  26]\n",
            "   [ 27  27  27]\n",
            "   [ 27  27  27]\n",
            "   ...\n",
            "   [ 16  16  16]\n",
            "   [ 18  18  18]\n",
            "   [ 21  21  21]]\n",
            "\n",
            "  [[ 26  26  26]\n",
            "   [ 26  26  26]\n",
            "   [ 26  26  26]\n",
            "   ...\n",
            "   [ 14  14  14]\n",
            "   [ 16  16  16]\n",
            "   [ 18  18  18]]\n",
            "\n",
            "  [[ 27  27  27]\n",
            "   [ 26  26  26]\n",
            "   [ 26  26  26]\n",
            "   ...\n",
            "   [ 12  12  12]\n",
            "   [ 14  14  14]\n",
            "   [ 16  16  16]]\n",
            "\n",
            "  ...\n",
            "\n",
            "  [[ 18  18  18]\n",
            "   [ 16  16  16]\n",
            "   [ 20  20  20]\n",
            "   ...\n",
            "   [ 16  16  16]\n",
            "   [ 18  18  18]\n",
            "   [ 20  20  20]]\n",
            "\n",
            "  [[ 18  18  18]\n",
            "   [ 16  16  16]\n",
            "   [ 19  19  19]\n",
            "   ...\n",
            "   [ 17  17  17]\n",
            "   [ 17  17  17]\n",
            "   [ 19  19  19]]\n",
            "\n",
            "  [[ 17  17  17]\n",
            "   [ 16  16  16]\n",
            "   [ 18  18  18]\n",
            "   ...\n",
            "   [ 16  16  16]\n",
            "   [ 19  19  19]\n",
            "   [ 20  20  20]]]\n",
            "\n",
            "\n",
            " [[[ 25  25  25]\n",
            "   [ 25  25  25]\n",
            "   [ 25  25  25]\n",
            "   ...\n",
            "   [ 29  29  29]\n",
            "   [ 31  31  31]\n",
            "   [ 31  31  31]]\n",
            "\n",
            "  [[ 23  23  23]\n",
            "   [ 25  25  25]\n",
            "   [ 25  25  25]\n",
            "   ...\n",
            "   [ 29  29  29]\n",
            "   [ 30  30  30]\n",
            "   [ 31  31  31]]\n",
            "\n",
            "  [[ 25  25  25]\n",
            "   [ 25  25  25]\n",
            "   [ 25  25  25]\n",
            "   ...\n",
            "   [ 29  29  29]\n",
            "   [ 30  30  30]\n",
            "   [ 31  31  31]]\n",
            "\n",
            "  ...\n",
            "\n",
            "  [[ 31  31  31]\n",
            "   [ 27  27  27]\n",
            "   [ 27  27  27]\n",
            "   ...\n",
            "   [ 36  36  36]\n",
            "   [ 37  37  37]\n",
            "   [ 41  41  41]]\n",
            "\n",
            "  [[ 28  28  28]\n",
            "   [ 29  29  29]\n",
            "   [ 28  28  28]\n",
            "   ...\n",
            "   [ 37  37  37]\n",
            "   [ 38  38  38]\n",
            "   [ 38  38  38]]\n",
            "\n",
            "  [[ 29  29  29]\n",
            "   [ 32  32  32]\n",
            "   [ 28  28  28]\n",
            "   ...\n",
            "   [ 38  38  38]\n",
            "   [ 37  37  37]\n",
            "   [ 40  40  40]]]\n",
            "\n",
            "\n",
            " ...\n",
            "\n",
            "\n",
            " [[[119 119 119]\n",
            "   [114 114 114]\n",
            "   [107 107 107]\n",
            "   ...\n",
            "   [119 119 119]\n",
            "   [115 115 115]\n",
            "   [114 114 114]]\n",
            "\n",
            "  [[115 115 115]\n",
            "   [111 111 111]\n",
            "   [111 111 111]\n",
            "   ...\n",
            "   [117 117 117]\n",
            "   [117 117 117]\n",
            "   [112 112 112]]\n",
            "\n",
            "  [[117 117 117]\n",
            "   [114 114 114]\n",
            "   [111 111 111]\n",
            "   ...\n",
            "   [117 117 117]\n",
            "   [115 115 115]\n",
            "   [113 113 113]]\n",
            "\n",
            "  ...\n",
            "\n",
            "  [[123 123 123]\n",
            "   [146 146 146]\n",
            "   [158 158 158]\n",
            "   ...\n",
            "   [ 99  99  99]\n",
            "   [ 73  73  73]\n",
            "   [ 46  46  46]]\n",
            "\n",
            "  [[124 124 124]\n",
            "   [144 144 144]\n",
            "   [159 159 159]\n",
            "   ...\n",
            "   [102 102 102]\n",
            "   [ 70  70  70]\n",
            "   [ 53  53  53]]\n",
            "\n",
            "  [[126 126 126]\n",
            "   [146 146 146]\n",
            "   [157 157 157]\n",
            "   ...\n",
            "   [103 103 103]\n",
            "   [ 74  74  74]\n",
            "   [ 57  57  57]]]\n",
            "\n",
            "\n",
            " [[[ 17  17  17]\n",
            "   [ 25  25  25]\n",
            "   [ 53  53  53]\n",
            "   ...\n",
            "   [ 45  45  45]\n",
            "   [ 41  41  41]\n",
            "   [ 24  24  24]]\n",
            "\n",
            "  [[  7   7   7]\n",
            "   [ 45  45  45]\n",
            "   [ 53  53  53]\n",
            "   ...\n",
            "   [ 44  44  44]\n",
            "   [ 40  40  40]\n",
            "   [ 32  32  32]]\n",
            "\n",
            "  [[ 36  36  36]\n",
            "   [ 49  49  49]\n",
            "   [ 50  50  50]\n",
            "   ...\n",
            "   [ 48  48  48]\n",
            "   [ 43  43  43]\n",
            "   [ 32  32  32]]\n",
            "\n",
            "  ...\n",
            "\n",
            "  [[ 38  38  38]\n",
            "   [ 35  35  35]\n",
            "   [ 33  33  33]\n",
            "   ...\n",
            "   [ 40  40  40]\n",
            "   [ 37  37  37]\n",
            "   [171 171 171]]\n",
            "\n",
            "  [[ 35  35  35]\n",
            "   [ 35  35  35]\n",
            "   [ 33  33  33]\n",
            "   ...\n",
            "   [ 38  38  38]\n",
            "   [ 38  38  38]\n",
            "   [ 78  78  78]]\n",
            "\n",
            "  [[ 35  35  35]\n",
            "   [ 36  36  36]\n",
            "   [ 33  33  33]\n",
            "   ...\n",
            "   [ 37  37  37]\n",
            "   [ 82  82  82]\n",
            "   [ 78  78  78]]]\n",
            "\n",
            "\n",
            " [[[ 26  26  26]\n",
            "   [ 24  24  24]\n",
            "   [  4   4   4]\n",
            "   ...\n",
            "   [ 42  42  42]\n",
            "   [ 26  26  26]\n",
            "   [  7   7   7]]\n",
            "\n",
            "  [[ 28  28  28]\n",
            "   [ 27  27  27]\n",
            "   [ 25  25  25]\n",
            "   ...\n",
            "   [ 46  46  46]\n",
            "   [ 41  41  41]\n",
            "   [ 48  48  48]]\n",
            "\n",
            "  [[ 30  30  30]\n",
            "   [ 29  29  29]\n",
            "   [ 27  27  27]\n",
            "   ...\n",
            "   [ 28  28  28]\n",
            "   [ 22  22  22]\n",
            "   [ 33  33  33]]\n",
            "\n",
            "  ...\n",
            "\n",
            "  [[ 12  12  12]\n",
            "   [  6   6   6]\n",
            "   [  6   6   6]\n",
            "   ...\n",
            "   [ 52  52  52]\n",
            "   [ 43  43  43]\n",
            "   [ 14  14  14]]\n",
            "\n",
            "  [[ 10  10  10]\n",
            "   [  5   5   5]\n",
            "   [  8   8   8]\n",
            "   ...\n",
            "   [ 52  52  52]\n",
            "   [ 43  43  43]\n",
            "   [ 19  19  19]]\n",
            "\n",
            "  [[  9   9   9]\n",
            "   [  6   6   6]\n",
            "   [ 10  10  10]\n",
            "   ...\n",
            "   [ 58  58  58]\n",
            "   [ 47  47  47]\n",
            "   [ 26  26  26]]]] [0 0 0 0 0 0 0 0 0 0 0 0 0 0 0 0 0 0 0 0 0 0 0 0 0 0 0 0 0 0 0 0 0 0 0 0 0\n",
            " 0 0 0 0 0 0 0 0 0 0 0 0 0 0 0 0 0 0 0 0 0 0 0 0 0 0 0 0 0 0 0 0 0 0 0 0 0\n",
            " 0 0 0 0 0 0 0 0 0 0 0 0 0 0 0 0 0 0 0 0 0 0 0 0 0 0 0 0 0 0 0 0 0 0 0 0 0\n",
            " 0 0 0 0 0 0 0 0 0 0 0 0 0 0 0 0 0 0 0 0 0 0 0 0 0 0 0 0 0 0 0 0 0 0 0 0 0\n",
            " 0 0 0 0 0 0 0 0 0 0 0 0 0 0 0 0 0 0 0 0 0 0 0 1 1 1 1 1 1 1 1 1 1 1 1 1 1\n",
            " 1 1 1 1 1 1 1 1 1 1 1 1 1 1 1 1 1 1 1 1 1 1 1 1 1 1 1 1 1 1 1 1 1 1 1 1 1\n",
            " 1 1 1 1 1 1 1 1 1 1 1 1 1 1 1 1 1 1 1 1 1 1 1 1 1 1 1 1 1 1 1 1 1 1 1 1 1\n",
            " 1 1 1 1 1 1 1 1 1 1 1 1 1 1 1 1 1 1 1 1 1 1 1 1 1 1 1 1 1 1 1 1 1 1 1 1 1\n",
            " 1 1 1 1 1 1 1 1 1 1 1 1 1 1 1 1 1 1 1 1 1 1 1 1 1 1 1 1 1 1 1 1 1 1 1 1 1\n",
            " 1 1 1 1 1 1 1 1 1 1 1 1 1 1 1 1 1 1 1 1 1 1 1 1 1 1 1 1 1 1 1 1 1 1 1 1 1\n",
            " 1 1 1 1 1 1 1 1 1 1 1 1 1 1 1 1 1 1 1 1 1 1 1 1 1 1 1 1 1 1 1 1 1 1 1 1 1\n",
            " 1 1 1 1 1 1 1 1 1 1 1 1 1 1 1 1 1 1 1 1 1 1 1 1 1 1 1 1 1 1 1 1 1 1 1 1 1\n",
            " 1 1 1 1 1 1 1 1 1 1 1 1 1 1 1 1 1 1 1 1 1 1 1 1 1 1 1 1 1 1 1 1 1 1 1 1 1\n",
            " 1 1 1 1 1 1 1 1 1 1 1 1 1 1 1 1 1 1 1 1 1 1 1 1 1 1 1 1 1 1 1 1 1 1 1 1 1\n",
            " 1 1 1 1 1 1 1 1 1 1 1 1 1 1 1 1 1 1 1 1 1 1 1 1 1 1 1 1 1 1 1 1 1 1 1 1 1\n",
            " 1 1 1 1 1 1 1 1 1 1 1 1 1 1 1 1 1 1 1 1 1 1 1 1 1 1 1]\n"
          ]
        },
        {
          "data": {
            "text/plain": [
              "((4077, 100, 100, 3), (582, 100, 100, 3))"
            ]
          },
          "execution_count": 7,
          "metadata": {},
          "output_type": "execute_result"
        }
      ],
      "source": [
        "print(image_train, label_train)\n",
        "print(image_test, label_test)\n",
        "image_train.shape, image_test.shape"
      ]
    },
    {
      "cell_type": "code",
      "execution_count": 8,
      "metadata": {
        "id": "HFEIGVhDaq1r"
      },
      "outputs": [
        {
          "data": {
            "image/png": "[encoded data removed]",
            "text/plain": [
              "<Figure size 640x480 with 1 Axes>"
            ]
          },
          "metadata": {},
          "output_type": "display_data"
        },
        {
          "name": "stdout",
          "output_type": "stream",
          "text": [
            "[[[ 35  35  35]\n",
            "  [ 29  29  29]\n",
            "  [ 53  53  53]\n",
            "  ...\n",
            "  [125 125 125]\n",
            "  [121 121 121]\n",
            "  [110 110 110]]\n",
            "\n",
            " [[ 38  38  38]\n",
            "  [ 28  28  28]\n",
            "  [ 43  43  43]\n",
            "  ...\n",
            "  [130 130 130]\n",
            "  [119 119 119]\n",
            "  [108 108 108]]\n",
            "\n",
            " [[ 36  36  36]\n",
            "  [ 29  29  29]\n",
            "  [ 32  32  32]\n",
            "  ...\n",
            "  [126 126 126]\n",
            "  [119 119 119]\n",
            "  [103 103 103]]\n",
            "\n",
            " ...\n",
            "\n",
            " [[ 39  39  39]\n",
            "  [ 40  40  40]\n",
            "  [ 41  41  41]\n",
            "  ...\n",
            "  [ 32  32  32]\n",
            "  [ 33  33  33]\n",
            "  [ 31  31  31]]\n",
            "\n",
            " [[ 40  40  40]\n",
            "  [ 40  40  40]\n",
            "  [ 42  42  42]\n",
            "  ...\n",
            "  [ 32  32  32]\n",
            "  [ 31  31  31]\n",
            "  [ 30  30  30]]\n",
            "\n",
            " [[ 39  39  39]\n",
            "  [ 41  41  41]\n",
            "  [ 40  40  40]\n",
            "  ...\n",
            "  [ 31  31  31]\n",
            "  [ 33  33  33]\n",
            "  [ 30  30  30]]]\n",
            "Class no: 0\n"
          ]
        }
      ],
      "source": [
        "num = 0\n",
        "\n",
        "plt.figure()\n",
        "plt.imshow(image_train[num])\n",
        "plt.show()\n",
        "print(image_train[num])\n",
        "print(\"Class no: {0}\".format(label_train[num]))"
      ]
    },
    {
      "cell_type": "code",
      "execution_count": 9,
      "metadata": {
        "id": "9fTKgl_MIrLU"
      },
      "outputs": [
        {
          "data": {
            "text/plain": [
              "(4077, 100, 100, 3)"
            ]
          },
          "execution_count": 9,
          "metadata": {},
          "output_type": "execute_result"
        }
      ],
      "source": [
        "image_train.shape"
      ]
    },
    {
      "cell_type": "code",
      "execution_count": 10,
      "metadata": {
        "id": "gwwOH3tuJFlB"
      },
      "outputs": [
        {
          "data": {
            "image/png": "[encoded data removed]",
            "text/plain": [
              "<Figure size 640x480 with 1 Axes>"
            ]
          },
          "metadata": {},
          "output_type": "display_data"
        }
      ],
      "source": [
        "plt.imshow(image_train[0])\n",
        "plt.show()"
      ]
    },
    {
      "cell_type": "code",
      "execution_count": 11,
      "metadata": {
        "id": "aRgLKZmlA8NG"
      },
      "outputs": [],
      "source": [
        "# Normalization\n",
        "\n",
        "image_train = image_train / 255.0\n",
        "image_test = image_test / 255.0\n"
      ]
    },
    {
      "cell_type": "code",
      "execution_count": 28,
      "metadata": {
        "id": "Ycjo5nNCIet8"
      },
      "outputs": [],
      "source": [
        "model = tf.keras.Sequential([\n",
        "    tf.keras.layers.Flatten(input_shape=(100, 100, 3)),\n",
        "    tf.keras.layers.Dense(128, activation='relu'),\n",
        "    # tf.keras.layers.BatchNormalization(),\n",
        "    tf.keras.layers.Dense(128, activation='relu'),\n",
        "    # tf.keras.layers.Dropout(0.2),\n",
        "    tf.keras.layers.Dense(2)\n",
        "])"
      ]
    },
    {
      "cell_type": "code",
      "execution_count": 29,
      "metadata": {
        "id": "4TSWviEVOZ3-"
      },
      "outputs": [],
      "source": [
        "model.compile(\n",
        "    optimizer='adam',\n",
        "    loss=tf.keras.losses.SparseCategoricalCrossentropy(from_logits=True),\n",
        "    metrics=['accuracy']\n",
        "    )"
      ]
    },
    {
      "cell_type": "code",
      "execution_count": 30,
      "metadata": {
        "id": "5hZ2oUXlOszZ"
      },
      "outputs": [
        {
          "name": "stdout",
          "output_type": "stream",
          "text": [
            "Epoch 1/30\n",
            "128/128 [==============================] - 1s 5ms/step - loss: 0.7348 - accuracy: 0.8251\n",
            "Epoch 2/30\n",
            "128/128 [==============================] - 1s 5ms/step - loss: 0.3971 - accuracy: 0.8563\n",
            "Epoch 3/30\n",
            "128/128 [==============================] - 1s 5ms/step - loss: 0.2133 - accuracy: 0.9112\n",
            "Epoch 4/30\n",
            "128/128 [==============================] - 1s 5ms/step - loss: 0.2025 - accuracy: 0.9166\n",
            "Epoch 5/30\n",
            "128/128 [==============================] - 1s 5ms/step - loss: 0.1962 - accuracy: 0.9225\n",
            "Epoch 6/30\n",
            "128/128 [==============================] - 1s 5ms/step - loss: 0.2210 - accuracy: 0.9117\n",
            "Epoch 7/30\n",
            "128/128 [==============================] - 1s 5ms/step - loss: 0.2183 - accuracy: 0.9132\n",
            "Epoch 8/30\n",
            "128/128 [==============================] - 1s 5ms/step - loss: 0.2145 - accuracy: 0.9183\n",
            "Epoch 9/30\n",
            "128/128 [==============================] - 1s 5ms/step - loss: 0.1756 - accuracy: 0.9321\n",
            "Epoch 10/30\n",
            "128/128 [==============================] - 1s 5ms/step - loss: 0.1589 - accuracy: 0.9382\n",
            "Epoch 11/30\n",
            "128/128 [==============================] - 1s 5ms/step - loss: 0.1845 - accuracy: 0.9306\n",
            "Epoch 12/30\n",
            "128/128 [==============================] - 1s 5ms/step - loss: 0.1469 - accuracy: 0.9438\n",
            "Epoch 13/30\n",
            "128/128 [==============================] - 1s 5ms/step - loss: 0.2042 - accuracy: 0.9156\n",
            "Epoch 14/30\n",
            "128/128 [==============================] - 1s 5ms/step - loss: 0.1860 - accuracy: 0.9281\n",
            "Epoch 15/30\n",
            "128/128 [==============================] - 1s 5ms/step - loss: 0.1739 - accuracy: 0.9323\n",
            "Epoch 16/30\n",
            "128/128 [==============================] - 1s 5ms/step - loss: 0.1635 - accuracy: 0.9357\n",
            "Epoch 17/30\n",
            "128/128 [==============================] - 1s 5ms/step - loss: 0.1471 - accuracy: 0.9426\n",
            "Epoch 18/30\n",
            "128/128 [==============================] - 1s 5ms/step - loss: 0.1520 - accuracy: 0.9414\n",
            "Epoch 19/30\n",
            "128/128 [==============================] - 1s 5ms/step - loss: 0.1547 - accuracy: 0.9429\n",
            "Epoch 20/30\n",
            "128/128 [==============================] - 1s 5ms/step - loss: 0.1434 - accuracy: 0.9448\n",
            "Epoch 21/30\n",
            "128/128 [==============================] - 1s 5ms/step - loss: 0.1334 - accuracy: 0.9507\n",
            "Epoch 22/30\n",
            "128/128 [==============================] - 1s 5ms/step - loss: 0.1601 - accuracy: 0.9345\n",
            "Epoch 23/30\n",
            "128/128 [==============================] - 1s 5ms/step - loss: 0.1730 - accuracy: 0.9333\n",
            "Epoch 24/30\n",
            "128/128 [==============================] - 1s 5ms/step - loss: 0.1496 - accuracy: 0.9397\n",
            "Epoch 25/30\n",
            "128/128 [==============================] - 1s 5ms/step - loss: 0.1477 - accuracy: 0.9416\n",
            "Epoch 26/30\n",
            "128/128 [==============================] - 1s 5ms/step - loss: 0.1450 - accuracy: 0.9419\n",
            "Epoch 27/30\n",
            "128/128 [==============================] - 1s 5ms/step - loss: 0.1402 - accuracy: 0.9478\n",
            "Epoch 28/30\n",
            "128/128 [==============================] - 1s 5ms/step - loss: 0.1548 - accuracy: 0.9421\n",
            "Epoch 29/30\n",
            "128/128 [==============================] - 1s 5ms/step - loss: 0.1345 - accuracy: 0.9495\n",
            "Epoch 30/30\n",
            "128/128 [==============================] - 1s 5ms/step - loss: 0.1219 - accuracy: 0.9585\n"
          ]
        },
        {
          "data": {
            "text/plain": [
              "<keras.callbacks.History at 0x15398766a10>"
            ]
          },
          "execution_count": 30,
          "metadata": {},
          "output_type": "execute_result"
        }
      ],
      "source": [
        "model.fit(image_train, label_train, epochs=30)"
      ]
    },
    {
      "cell_type": "code",
      "execution_count": 31,
      "metadata": {},
      "outputs": [
        {
          "name": "stdout",
          "output_type": "stream",
          "text": [
            "19/19 - 0s - loss: 0.1893 - accuracy: 0.9416 - 190ms/epoch - 10ms/step\n",
            "\n",
            "Test Accuracy: 94.15807723999023 %\n",
            "\n",
            "Test Loss:  0.18925021588802338\n"
          ]
        }
      ],
      "source": [
        "test_loss, test_acc = model.evaluate(image_test, label_test, verbose=2)\n",
        "print('\\nTest Accuracy: {} %'.format(test_acc*100))\n",
        "print('\\nTest Loss: ', test_loss)\n"
      ]
    },
    {
      "cell_type": "code",
      "execution_count": 32,
      "metadata": {},
      "outputs": [
        {
          "name": "stdout",
          "output_type": "stream",
          "text": [
            "Model: \"sequential_3\"\n",
            "_________________________________________________________________\n",
            " Layer (type)                Output Shape              Param #   \n",
            "=================================================================\n",
            " flatten_2 (Flatten)         (None, 30000)             0         \n",
            "                                                                 \n",
            " dense_8 (Dense)             (None, 128)               3840128   \n",
            "                                                                 \n",
            " dense_9 (Dense)             (None, 128)               16512     \n",
            "                                                                 \n",
            " dense_10 (Dense)            (None, 2)                 258       \n",
            "                                                                 \n",
            "=================================================================\n",
            "Total params: 3,856,898\n",
            "Trainable params: 3,856,898\n",
            "Non-trainable params: 0\n",
            "_________________________________________________________________\n"
          ]
        }
      ],
      "source": [
        "model.summary()"
      ]
    },
    {
      "cell_type": "code",
      "execution_count": 33,
      "metadata": {},
      "outputs": [],
      "source": [
        "probability_model = tf.keras.Sequential([\n",
        "    model,\n",
        "    tf.keras.layers.Softmax()\n",
        "])"
      ]
    },
    {
      "cell_type": "code",
      "execution_count": 34,
      "metadata": {},
      "outputs": [
        {
          "name": "stdout",
          "output_type": "stream",
          "text": [
            "19/19 [==============================] - 0s 6ms/step\n"
          ]
        },
        {
          "data": {
            "text/plain": [
              "array([0.6150135 , 0.38498655], dtype=float32)"
            ]
          },
          "execution_count": 34,
          "metadata": {},
          "output_type": "execute_result"
        }
      ],
      "source": [
        "predictions = probability_model.predict(image_test)\n",
        "predictions[3]"
      ]
    },
    {
      "cell_type": "code",
      "execution_count": 35,
      "metadata": {},
      "outputs": [
        {
          "data": {
            "text/plain": [
              "0"
            ]
          },
          "execution_count": 35,
          "metadata": {},
          "output_type": "execute_result"
        }
      ],
      "source": [
        "np.argmax(predictions[3])"
      ]
    },
    {
      "cell_type": "code",
      "execution_count": 53,
      "metadata": {},
      "outputs": [
        {
          "data": {
            "image/png": "[encoded data removed]",
            "text/plain": [
              "<Figure size 640x480 with 1 Axes>"
            ]
          },
          "metadata": {},
          "output_type": "display_data"
        }
      ],
      "source": [
        "num =50\n",
        "plt.imshow(image_test[num])\n",
        "plt.title(label=\"{0}, AI Pred: {1}\".format(label_test[num], np.argmax(predictions[num])))\n",
        "plt.show()"
      ]
    },
    {
      "cell_type": "code",
      "execution_count": 54,
      "metadata": {},
      "outputs": [],
      "source": [
        "import h5py"
      ]
    },
    {
      "cell_type": "code",
      "execution_count": 55,
      "metadata": {},
      "outputs": [
        {
          "name": "stdout",
          "output_type": "stream",
          "text": [
            "Model: \"sequential_3\"\n",
            "_________________________________________________________________\n",
            " Layer (type)                Output Shape              Param #   \n",
            "=================================================================\n",
            " flatten_2 (Flatten)         (None, 30000)             0         \n",
            "                                                                 \n",
            " dense_8 (Dense)             (None, 128)               3840128   \n",
            "                                                                 \n",
            " dense_9 (Dense)             (None, 128)               16512     \n",
            "                                                                 \n",
            " dense_10 (Dense)            (None, 2)                 258       \n",
            "                                                                 \n",
            "=================================================================\n",
            "Total params: 3,856,898\n",
            "Trainable params: 3,856,898\n",
            "Non-trainable params: 0\n",
            "_________________________________________________________________\n"
          ]
        }
      ],
      "source": [
        "model.save(\"LUNG-AI-5.h5\")\n",
        "model.summary()"
      ]
    }
  ],
  "metadata": {
    "colab": {
      "provenance": []
    },
    "kernelspec": {
      "display_name": "Python 3",
      "name": "python3"
    },
    "language_info": {
      "codemirror_mode": {
        "name": "ipython",
        "version": 3
      },
      "file_extension": ".py",
      "mimetype": "text/x-python",
      "name": "python",
      "nbconvert_exporter": "python",
      "pygments_lexer": "ipython3",
      "version": "3.10.12"
    }
  },
  "nbformat": 4,
  "nbformat_minor": 0
}
