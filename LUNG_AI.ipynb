{
  "cells": [
    {
      "cell_type": "code",
      "execution_count": null,
      "metadata": {
        "id": "rPHlC-zsXe7h"
      },
      "outputs": [],
      "source": [
        "from datasets import load_dataset\n",
        "\n",
        "dataset = load_dataset(\"keremberke/chest-xray-classification\", name=\"full\")"
      ]
    },
    {
      "cell_type": "code",
      "execution_count": null,
      "metadata": {
        "id": "SvQ23220a-uO"
      },
      "outputs": [],
      "source": [
        "import matplotlib.pyplot as plt\n",
        "import tensorflow as tf\n",
        "import pandas as pd\n",
        "import numpy as np\n",
        "import cv2 as cv\n"
      ]
    },
    {
      "cell_type": "code",
      "execution_count": null,
      "metadata": {
        "id": "Q9Jh9GkFYO7L"
      },
      "outputs": [],
      "source": [
        "class_labels = [\n",
        "    \"NORMAL\",\n",
        "    \"PNEUMONIA\"\n",
        "    ]"
      ]
    },
    {
      "cell_type": "code",
      "execution_count": null,
      "metadata": {
        "colab": {
          "base_uri": "https://localhost:8080/"
        },
        "id": "x5jSIQFYZxNP",
        "outputId": "adfa748b-8597-4042-acd9-b20030eb1aef"
      },
      "outputs": [],
      "source": [
        "for i in class_labels:\n",
        "  print(i)\n",
        "\n",
        "print(len(class_labels))"
      ]
    },
    {
      "cell_type": "code",
      "execution_count": null,
      "metadata": {
        "id": "EeeTugGHgmoN"
      },
      "outputs": [],
      "source": [
        "image_train = []\n",
        "for i in dataset[\"train\"][\"image\"]:\n",
        "  image_train.append(cv.resize(np.asarray(i), (100, 100)))\n",
        "\n",
        "image_train = np.asanyarray(image_train)\n",
        "\n",
        "\n",
        "label_train = np.asanyarray(dataset[\"train\"][\"labels\"])\n",
        "\n",
        "\n",
        "image_test = []\n",
        "for i in dataset[\"test\"][\"image\"]:\n",
        "  image_test.append(cv.resize(np.asarray(i), (100, 100)))\n",
        "\n",
        "image_test = np.asanyarray(image_test)\n",
        "\n",
        "label_test = np.asanyarray(dataset[\"test\"][\"labels\"])\n",
        "\n",
        "print(len(image_train))\n",
        "print(type(image_train))\n",
        "print(type(image_test))\n",
        "print(type(label_train))\n",
        "print(type(label_test))"
      ]
    },
    {
      "cell_type": "code",
      "execution_count": null,
      "metadata": {
        "id": "r42OhqRwUDci"
      },
      "outputs": [],
      "source": [
        "print(label_train)"
      ]
    },
    {
      "cell_type": "code",
      "execution_count": null,
      "metadata": {
        "id": "KPeJqkLtE4sg"
      },
      "outputs": [],
      "source": [
        "print(image_train, label_train)\n",
        "print(image_test, label_test)\n",
        "image_train.shape, image_test.shape"
      ]
    },
    {
      "cell_type": "code",
      "execution_count": null,
      "metadata": {
        "id": "HFEIGVhDaq1r"
      },
      "outputs": [],
      "source": [
        "num = 0\n",
        "\n",
        "plt.figure()\n",
        "plt.imshow(image_train[num])\n",
        "plt.show()\n",
        "print(image_train[num])\n",
        "print(\"Class no: {0}\".format(label_train[num]))"
      ]
    },
    {
      "cell_type": "code",
      "execution_count": null,
      "metadata": {
        "id": "9fTKgl_MIrLU"
      },
      "outputs": [],
      "source": [
        "image_train.shape"
      ]
    },
    {
      "cell_type": "code",
      "execution_count": null,
      "metadata": {
        "id": "gwwOH3tuJFlB"
      },
      "outputs": [],
      "source": [
        "plt.imshow(image_train[0])\n",
        "plt.show()"
      ]
    },
    {
      "cell_type": "code",
      "execution_count": null,
      "metadata": {
        "id": "aRgLKZmlA8NG"
      },
      "outputs": [],
      "source": [
        "# Normalization\n",
        "\n",
        "image_train = image_train / 255.0\n",
        "image_test = image_test / 255.0\n"
      ]
    },
    {
      "cell_type": "code",
      "execution_count": null,
      "metadata": {
        "id": "Ycjo5nNCIet8"
      },
      "outputs": [],
      "source": [
        "model = tf.keras.Sequential([\n",
        "    tf.keras.layers.Flatten(input_shape=(100, 100, 3)),\n",
        "    tf.keras.layers.Dense(128, activation='relu'),\n",
        "    # tf.keras.layers.BatchNormalization(),\n",
        "    tf.keras.layers.Dense(128, activation='relu'),\n",
        "    # tf.keras.layers.Dropout(0.2),\n",
        "    tf.keras.layers.Dense(2)\n",
        "])"
      ]
    },
    {
      "cell_type": "code",
      "execution_count": null,
      "metadata": {
        "id": "4TSWviEVOZ3-"
      },
      "outputs": [],
      "source": [
        "model.compile(\n",
        "    optimizer='adam',\n",
        "    loss=tf.keras.losses.SparseCategoricalCrossentropy(from_logits=True),\n",
        "    metrics=['accuracy']\n",
        "    )"
      ]
    },
    {
      "cell_type": "code",
      "execution_count": null,
      "metadata": {
        "id": "5hZ2oUXlOszZ"
      },
      "outputs": [],
      "source": [
        "model.fit(image_train, label_train, epochs=30)"
      ]
    },
    {
      "cell_type": "code",
      "execution_count": null,
      "metadata": {},
      "outputs": [],
      "source": [
        "test_loss, test_acc = model.evaluate(image_test, label_test, verbose=2)\n",
        "print('\\nTest Accuracy: {} %'.format(test_acc*100))\n",
        "print('\\nTest Loss: ', test_loss)\n"
      ]
    },
    {
      "cell_type": "code",
      "execution_count": null,
      "metadata": {},
      "outputs": [],
      "source": [
        "model.summary()"
      ]
    },
    {
      "cell_type": "code",
      "execution_count": null,
      "metadata": {},
      "outputs": [],
      "source": [
        "probability_model = tf.keras.Sequential([\n",
        "    model,\n",
        "    tf.keras.layers.Softmax()\n",
        "])"
      ]
    },
    {
      "cell_type": "code",
      "execution_count": null,
      "metadata": {},
      "outputs": [],
      "source": [
        "predictions = probability_model.predict(image_test)\n",
        "predictions[3]"
      ]
    },
    {
      "cell_type": "code",
      "execution_count": null,
      "metadata": {},
      "outputs": [],
      "source": [
        "np.argmax(predictions[3])"
      ]
    },
    {
      "cell_type": "code",
      "execution_count": null,
      "metadata": {},
      "outputs": [],
      "source": [
        "num =50\n",
        "plt.imshow(image_test[num])\n",
        "plt.title(label=\"{0}, AI Pred: {1}\".format(label_test[num], np.argmax(predictions[num])))\n",
        "plt.show()"
      ]
    },
    {
      "cell_type": "code",
      "execution_count": null,
      "metadata": {},
      "outputs": [],
      "source": [
        "import h5py"
      ]
    },
    {
      "cell_type": "code",
      "execution_count": null,
      "metadata": {},
      "outputs": [],
      "source": [
        "model.save(\"LUNG-AI-5.h5\")\n",
        "model.summary()"
      ]
    }
  ],
  "metadata": {
    "colab": {
      "provenance": []
    },
    "kernelspec": {
      "display_name": "Python 3",
      "name": "python3"
    },
    "language_info": {
      "codemirror_mode": {
        "name": "ipython",
        "version": 3
      },
      "file_extension": ".py",
      "mimetype": "text/x-python",
      "name": "python",
      "nbconvert_exporter": "python",
      "pygments_lexer": "ipython3",
      "version": "3.10.12"
    }
  },
  "nbformat": 4,
  "nbformat_minor": 0
}
